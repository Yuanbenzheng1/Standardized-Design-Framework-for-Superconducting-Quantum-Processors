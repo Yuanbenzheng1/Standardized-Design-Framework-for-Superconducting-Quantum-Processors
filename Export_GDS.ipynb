{
 "cells": [
  {
   "cell_type": "code",
   "execution_count": 1,
   "id": "bcd207c0-6239-49be-8239-05a478f8301c",
   "metadata": {},
   "outputs": [],
   "source": [
    "import gdspy\n",
    "import numpy"
   ]
  },
  {
   "cell_type": "code",
   "execution_count": 2,
   "id": "5599d2db-dea0-4879-a955-752d1d32b1a0",
   "metadata": {},
   "outputs": [],
   "source": [
    "lib = gdspy.GdsLibrary()\n",
    "cell = lib.new_cell('slice')"
   ]
  },
  {
   "cell_type": "code",
   "execution_count": 3,
   "id": "8226aaa2-c4a3-4b55-bee9-2df8446afb63",
   "metadata": {},
   "outputs": [],
   "source": [
    "ld_fulletch = {\"layer\": 1,\"datatype\": 1}"
   ]
  },
  {
   "cell_type": "markdown",
   "id": "3ec5ef85-ecee-48bb-a708-2360ee9a5e77",
   "metadata": {
    "tags": []
   },
   "source": [
    "### qubit封装"
   ]
  },
  {
   "cell_type": "code",
   "execution_count": 4,
   "id": "45dd2947-a054-4bea-a859-e2c7609a863c",
   "metadata": {},
   "outputs": [],
   "source": [
    "def plotqubit(x:float,y:float,a:int,b:int,c:int,d:int,width:float,height:float,gap:float):  #默认pocket为650*650,左下角坐标,输入a、b、c、d为0或1,板长,板宽\n",
    "    qubit_point = gdspy.Curve(x,y).l(0,125,\n",
    "                                     7*a,125*a,(70.5-width/2+227.5)*a,(190-height+90)*a,(93.5-width/2+227.5)*a,(190-height+90)*a,(93.5-width/2+227.5)*a,(175-height+90)*a,(218.5-width/2+227.5)*a,(175-height+90)*a,(218.5-width/2+227.5)*a,(205-height+90)*a,(93.5-width/2+227.5)*a,(205-height+90)*a,(93.5-width/2+227.5)*a,(200-height+90)*a,(66.5-width/2+227.5)*a,(200-height+90)*a,3*a,135*a,#左下引脚\n",
    "                                     0,135,0,515,\n",
    "                                     3*b,515*b,(70.5-width/2+227.5)*b,(450+height-90)*b,(97.5-width/2+227.5)*b,(450+height-90)*b,(97.5-width/2+227.5)*b,(445+height-90)*b,(149-width/2+227.5)*b,(445+height-90)*b,(149-width/2+227.5)*b,(475+height-90)*b,(97.5-width/2+227.5)*b,(475+height-90)*b,(97.5-width/2+227.5)*b,(460+height-90)*b,(74.5-width/2+227.5)*b,(460+height-90)*b,7*b,525*b,#左上角引脚\n",
    "                                     0,525,0,650,650,650,650,525,\n",
    "                                     (643-650)*c+650,(525-525)*c+525,(575.5+width/2-227.5-650)*c+650,(460+height-90-525)*c+525,(552.5+width/2-227.5-650)*c+650,(460+height-90-525)*c+525,(552.5+width/2-227.5-650)*c+650,(475+height-90-525)*c+525,(501+width/2-227.5-650)*c+650,(475+height-90-525)*c+525,(501+width/2-227.5-650)*c+650,(445+height-90-525)*c+525,(552.5+width/2-227.5-650)*c+650,(445+height-90-525)*c+525,(552.5+width/2-227.5-650)*c+650,(450+height-90-525)*c+525,(579.5+width/2-227.5-650)*c+650,(450+height-90-525)*c+525,(647-650)*c+650,(515-525)*c+525,# 右上角引脚\n",
    "                                     650,515,\n",
    "                                     650,325+gap/2+height,325+width/2,325+gap/2+height,325-width/2,325+gap/2+height,325-width/2,325+gap/2,325+width/2,325+gap/2,325+width/2,325+gap/2+height,650,325+gap/2+height,      #上pad\n",
    "                                     650,325-gap/2,325+width/2,325-gap/2,325-width/2,325-gap/2,325-width/2,325-gap/2-height,325+width/2,325-gap/2-height,325+width/2,325-gap/2,650,325-gap/2,     #下pad\n",
    "                                     650,135,\n",
    "                                     (647-650)*d+650,(135-135)*d+135,(579.5+width/2-227.5-650)*d+650,(200-height+90-135)*d+135,(552.5+width/2-227.5-650)*d+650,(200-height+90-135)*d+135,(552.5+width/2-227.5-650)*d+650,(205-height+90-135)*d+135,(427.5+width/2-227.5-650)*d+650,(205-height+90-135)*d+135,(427.5+width/2-227.5-650)*d+650,(175-height+90-135)*d+135,(552.5+width/2-227.5-650)*d+650,(175-height+90-135)*d+135,(552.5+width/2-227.5-650)*d+650,(190-height+90-135)*d+135,(575.5+width/2-227.5-650)*d+650,(190-height+90-135)*d+135,(643-650)*d+650,(125-135)*d+135,#右下角引脚\n",
    "                                     650,125,650,0)  \n",
    "    qubit = gdspy.Polygon(qubit_point.get_points())\n",
    "    cell.add(qubit)"
   ]
  },
  {
   "cell_type": "code",
   "execution_count": 5,
   "id": "fa32eaa8-1dac-47e4-a83f-a16a082f4c13",
   "metadata": {},
   "outputs": [],
   "source": [
    "#gdspy.LayoutViewer()"
   ]
  },
  {
   "cell_type": "markdown",
   "id": "4a05bff6-a838-4484-8ad6-732089e2eac1",
   "metadata": {
    "tags": []
   },
   "source": [
    "### readout封装"
   ]
  },
  {
   "cell_type": "code",
   "execution_count": 6,
   "id": "898cc1ce-ee69-4ba8-ad9b-45191642566d",
   "metadata": {},
   "outputs": [],
   "source": [
    "import math"
   ]
  },
  {
   "cell_type": "code",
   "execution_count": 7,
   "id": "90f5525c-00e8-4241-a80a-ca86b8fe5fa7",
   "metadata": {},
   "outputs": [],
   "source": [
    "def plotread(x:float,y:float,length:float,r:float,ori:int):   #x、y起始坐标，length总长度，r弧度半径,ori=1向上\n",
    "    s=length-50-200-275-6*math.pi*r\n",
    "    l=s-450*4\n",
    "    path = gdspy.Path(6, (x, y), number_of_paths=2, distance = 16)\n",
    "    if ori==1:\n",
    "        path.segment(50, \"+x\")\n",
    "        path.turn(r,\"rr\")\n",
    "        # 第一段长直线\n",
    "        path.segment(450, \"-x\")\n",
    "        path.turn(r,\"ll\")\n",
    "        # 第二段直线\n",
    "        path.segment(450, \"+x\")\n",
    "        path.turn(r,\"rr\")\n",
    "        # 第三段直线\n",
    "        path.segment(450, \"-x\")\n",
    "        path.turn(r,\"ll\")\n",
    "        # 第四段直线\n",
    "        path.segment(450, \"+x\")\n",
    "        path.turn(r,\"rr\")\n",
    "        # 第五段直线\n",
    "        path.segment(l, \"-x\") ## 由最后一段线长控制读取腔长\n",
    "        path.turn(r,\"l\")\n",
    "\n",
    "        path.segment(200,\"-y\")\n",
    "        path.turn(100,\"l\")\n",
    "        # 耦合长度\n",
    "        path.segment(275,\"+x\")\n",
    "    else:\n",
    "        path.segment(50, \"+x\")\n",
    "        path.turn(r,\"ll\")\n",
    "        # 第一段长直线\n",
    "        path.segment(450, \"-x\")\n",
    "        path.turn(r,\"rr\")\n",
    "        # 第二段直线\n",
    "        path.segment(450, \"+x\")\n",
    "        path.turn(r,\"ll\")\n",
    "        # 第三段直线\n",
    "        path.segment(450, \"-x\")\n",
    "        path.turn(r,\"rr\")\n",
    "        # 第四段直线\n",
    "        path.segment(450, \"+x\")\n",
    "        path.turn(r,\"ll\")\n",
    "        # 第五段直线\n",
    "        path.segment(l, \"-x\") ## 由最后一段线长控制读取腔长\n",
    "        path.turn(r,\"r\")\n",
    "\n",
    "        path.segment(200,\"+y\")\n",
    "        path.turn(100,\"r\")\n",
    "        # 耦合长度\n",
    "        path.segment(275,\"+x\")\n",
    "\n",
    "    cell.add(path)"
   ]
  },
  {
   "cell_type": "code",
   "execution_count": 8,
   "id": "93d153d9-53b6-4df5-ab3e-5c1d91536b93",
   "metadata": {},
   "outputs": [],
   "source": [
    "#gdspy.LayoutViewer()"
   ]
  },
  {
   "cell_type": "markdown",
   "id": "eeda32f6-d3eb-49ac-b413-a485326899e8",
   "metadata": {},
   "source": [
    "### bus封装"
   ]
  },
  {
   "cell_type": "code",
   "execution_count": 9,
   "id": "6b567d1b-3819-4977-9132-c4347bab01a7",
   "metadata": {},
   "outputs": [],
   "source": [
    "def plotbus(x:float,y:float,x1:float,y1:float,length:float,r:float):\n",
    "    xx=(x1-x-600)/2\n",
    "    s=length-225*2-781.4*2-6*math.pi*r\n",
    "    l=s/4\n",
    "    bus = gdspy.Path(6, (x, y), number_of_paths=2, distance = 16)\n",
    "    bus.segment(xx,\"+x\")\n",
    "    bus.turn(r,\"l\")\n",
    "    bus.segment(781.4,\"+y\")\n",
    "    bus.turn(r,\"rr\")\n",
    "    bus.segment(l,\"-y\")\n",
    "    bus.turn(r,\"ll\")\n",
    "    bus.segment(l,\"+y\")\n",
    "    bus.turn(r,\"rr\")\n",
    "    bus.segment(l,\"-y\")\n",
    "\n",
    "    bus.turn(r,\"ll\")\n",
    "    bus.segment(l,\"+y\")\n",
    "    bus.turn(r,\"rr\")\n",
    "    bus.segment(781.4,\"-y\")\n",
    "    bus.turn(r,\"l\")\n",
    "    bus.segment(xx,\"+x\")\n",
    "    cell.add(bus)"
   ]
  },
  {
   "cell_type": "code",
   "execution_count": 10,
   "id": "3eea0a5f-331a-4c00-92b5-8b60aac54128",
   "metadata": {},
   "outputs": [],
   "source": [
    "#gdspy.LayoutViewer()"
   ]
  },
  {
   "cell_type": "markdown",
   "id": "12e8c5fe-decb-4c6c-9029-58ea4743d1b6",
   "metadata": {},
   "source": [
    "### 创建bus总线和引脚"
   ]
  },
  {
   "cell_type": "code",
   "execution_count": 11,
   "id": "d5b4489b-09d1-4912-84a5-bae58fc963e8",
   "metadata": {},
   "outputs": [
    {
     "data": {
      "text/plain": [
       "<gdspy.library.Cell at 0x2d8895e1d08>"
      ]
     },
     "execution_count": 11,
     "metadata": {},
     "output_type": "execute_result"
    }
   ],
   "source": [
    "bus1 = gdspy.Path(10, (-2000, -1305), number_of_paths=2, distance = 30)\n",
    "bus1.segment(6600,\"+x\")\n",
    "cell.add(bus1)\n",
    "\n",
    "bus2 = gdspy.Path(10, (-2000, -1765-200), number_of_paths=2, distance = 30)\n",
    "bus2.segment(6600,\"+x\")\n",
    "cell.add(bus2)\n",
    "\n",
    "pin_points_out = gdspy.Curve(-2000, -1285).l(-110, 205, -440, 205, -440, -245, -110, -245, 0, -40, 0, -30, -110, -145, -360, -145, -360, 105, -110, 105,0,-10)\n",
    "pin1_out = gdspy.Polygon(pin_points_out.get_points())\n",
    "cell.add(pin1_out)\n",
    "\n",
    "pin_points_out2 = gdspy.Curve(-2000, -1745-200).l(-110, 205, -440, 205, -440, -245, -110, -245, 0, -40, 0, -30, -110, -145, -360, -145, -360, 105, -110, 105,0,-10)\n",
    "pin2_out = gdspy.Polygon(pin_points_out2.get_points())\n",
    "cell.add(pin2_out)\n",
    "\n",
    "pin_points_out3 = gdspy.Curve(4600, -1285).l(110, 205, 440, 205, 440, -245, 110, -245, 0, -40, 0, -30, 110, -145, 360, -145, 360, 105, 110, 105,0,-10)\n",
    "pin3_out = gdspy.Polygon(pin_points_out3.get_points())\n",
    "cell.add(pin3_out)\n",
    "\n",
    "pin_points_out4 = gdspy.Curve(4600, -1745-200).l(110, 205, 440, 205, 440, -245, 110, -245, 0, -40, 0, -30, 110, -145, 360, -145, 360, 105, 110, 105,0,-10)\n",
    "pin4_out = gdspy.Polygon(pin_points_out4.get_points())\n",
    "cell.add(pin4_out)"
   ]
  },
  {
   "cell_type": "code",
   "execution_count": 12,
   "id": "aea01c69-98a3-48e2-8e64-67826ef6b164",
   "metadata": {},
   "outputs": [
    {
     "name": "stderr",
     "output_type": "stream",
     "text": [
      "C:\\Users\\Think\\anaconda3\\envs\\pymetal\\lib\\site-packages\\ipykernel_launcher.py:1: DeprecationWarning: [GDSPY] Use of the global library is deprecated.  Pass LayoutViewer a GdsLibrary instance.\n",
      "  \"\"\"Entry point for launching an IPython kernel.\n"
     ]
    },
    {
     "data": {
      "text/plain": [
       "<gdspy.viewer.LayoutViewer object .!layoutviewer>"
      ]
     },
     "execution_count": 12,
     "metadata": {},
     "output_type": "execute_result"
    }
   ],
   "source": [
    "gdspy.LayoutViewer()"
   ]
  },
  {
   "cell_type": "markdown",
   "id": "4b202d36-b092-4eb2-9896-e819d0d8a4bc",
   "metadata": {},
   "source": [
    "### cl锤子封装"
   ]
  },
  {
   "cell_type": "code",
   "execution_count": 13,
   "id": "ba03c9c9-670b-48c8-9171-b180b05c1a01",
   "metadata": {},
   "outputs": [],
   "source": [
    "###锤子\n",
    "def plotcl(x:float,y:float,di:int,ori:int):  #左上角起始坐标， di表示朝向：-1表示开口朝左，1表示开口朝右,ori==1 向上\n",
    "    if di==1 and ori==1:\n",
    "        ct=gdspy.Curve(x, y).l(0, 30, 20, 30, 20, 15, 15, 15, 15, 25, 5, 25, 5, 5, 20, 5, 20, 0, 0,0)\n",
    "    elif di==-1 and ori==1:\n",
    "        ct=gdspy.Curve(x, y).l(0, 10, 20, 10, 20, -20, 0, -20, 0, -15, 15, -15, 15, 5, 5, 5, 5, -5, 0,-5)\n",
    "    elif di==1 and ori==-1:\n",
    "        ct=gdspy.Curve(x, y).l(0, -30, 20, -30, 20, -15, 15, -15, 15, -25, 5, -25, 5, -5, 20, -5, 20, 0, 0,0)\n",
    "    else:\n",
    "        ct=gdspy.Curve(x, y).l(0, -10, 20, -10, 20, 20, 0, 20, 0, 15, 15, 15, 15, -5, 5, -5, 5, 5, 0,5)\n",
    "    pt=gdspy.Polygon(ct.get_points())\n",
    "    cell.add(pt)\n",
    "\n",
    "###线\n",
    "def plotclline(x:float,y:float,di:int,ori:int):  #左上角起始坐标， di表示朝向：-1表示锤子开口朝左，1表示开口朝右,ori=1 向上\n",
    "    Q_cl = gdspy.Path(5, (x, y), number_of_paths=2, distance = 15)\n",
    "\n",
    "    ## CL旁边的线\n",
    "    if di==-1 and ori==1:\n",
    "        Q_cl.segment(50, \"-x\")\n",
    "        Q_cl.turn(100,\"r\")\n",
    "    elif di==-1 and ori==-1:\n",
    "        Q_cl.segment(50, \"-x\")\n",
    "        Q_cl.turn(100,\"l\")\n",
    "    elif di==1 and ori==1:\n",
    "        Q_cl.segment(50, \"+x\")\n",
    "        Q_cl.turn(100,\"l\")\n",
    "    else:\n",
    "        Q_cl.segment(50, \"+x\")\n",
    "        Q_cl.turn(100,\"r\")\n",
    "    if ori==-1:\n",
    "        Q_cl.segment(1150,\"-y\")\n",
    "    else:\n",
    "        Q_cl.segment(1150,\"+y\")\n",
    "    cell.add(Q_cl)\n",
    "\n",
    "###引脚\n",
    "def plotcld(x:float,y:float,ori:int):  #ori=1 向上\n",
    "    if ori==1:\n",
    "        c = gdspy.Curve(x, y).l(205, 125, 205, 455, -225, 455, -225, 125, -20, 0, -15, 0, -126, 125, -126, 375, 106, 375, 106, 125,-5,0)\n",
    "    else:\n",
    "        c = gdspy.Curve(x, y).l(205, -125, 205, -455, -225, -455, -225, -125, -20, 0, -15, 0, -126, -125, -126, -375, 106, -375, 106, -125,-5,0)\n",
    "    p = gdspy.Polygon(c.get_points())\n",
    "    cell.add(p)"
   ]
  },
  {
   "cell_type": "markdown",
   "id": "0438c34c-a66f-4cfd-b48d-e747014a42c5",
   "metadata": {},
   "source": [
    "###下面是封装之后要运行的"
   ]
  },
  {
   "cell_type": "code",
   "execution_count": 14,
   "id": "2b48975e-ed51-42a4-9b96-5757b784c755",
   "metadata": {},
   "outputs": [],
   "source": [
    "plotqubit(0,0,   0,0,1,1,   455,90,30)  #起始坐标，  标记引脚，  宽、高、间隔\n",
    "plotqubit(1700,0,   1,0,0,1,   455,90,30)\n",
    "plotqubit(-850,-1285-500-1285-650-200,   0,0,1,0,   455,90,30)\n",
    "plotqubit(850,-1285-500-1285-650-200,   0,0,1,0,   455,90,30)\n",
    "plotqubit(2550,-1285-500-1285-650-200,   0,0,1,0,   455,90,30)"
   ]
  },
  {
   "cell_type": "code",
   "execution_count": 15,
   "id": "faf0bb84-8156-4dec-ac06-511acbe15387",
   "metadata": {},
   "outputs": [],
   "source": [
    "plotread(650,130,   4550,100,1)  #起始坐标，   总长度，圆弧半径 #4\n",
    "plotread(2350,130,   4247,100,1) #5\n",
    "plotread(-200,-1285-500-1285-130-200,   4900,100,-1) #1  需要改旋转方向\n",
    "plotread(1500,-1285-500-1285-130-200,   4826,100,-1) #2\n",
    "plotread(3200,-1285-500-1285-130-200,   4754,100,-1) #3"
   ]
  },
  {
   "cell_type": "code",
   "execution_count": 16,
   "id": "568a9fc6-28be-4214-93a7-dc63a5569c79",
   "metadata": {},
   "outputs": [],
   "source": [
    "plotbus(650,520,   1700,130,   9406,50)  #待连接的第一个qubit坐标，     被连接的第二个qubit坐标，    总长度，圆弧半径"
   ]
  },
  {
   "cell_type": "code",
   "execution_count": 17,
   "id": "5d310141-e247-46ee-a4b7-f807f015d0be",
   "metadata": {},
   "outputs": [],
   "source": [
    "plotcl(-26,405,   -1,1)   #左上角起始坐标，   开口方向\n",
    "plotcl(2356,385,   1,1)\n",
    "plotcl(-876,-1285-500-1285-405-200,   -1,   -1)\n",
    "plotcl(824,-1285-500-1285-405-200,   -1,   -1)\n",
    "plotcl(2524,-1285-500-1285-405-200,   -1,   -1)"
   ]
  },
  {
   "cell_type": "code",
   "execution_count": 18,
   "id": "50169b78-5365-432c-9eb7-adf1cd0e2cd7",
   "metadata": {},
   "outputs": [],
   "source": [
    "plotclline(-26,395,   -1,1)    #左上角起始坐标，   开口方向\n",
    "plotclline(2376,395,   1,1) \n",
    "plotclline(-876,-1285-500-1285-395-200,   -1,-1)    #上下方向不对要改\n",
    "plotclline(824,-1285-500-1285-395-200,   -1,-1) \n",
    "plotclline(2524,-1285-500-1285-395-200,   -1,-1) "
   ]
  },
  {
   "cell_type": "code",
   "execution_count": 19,
   "id": "6832341e-99bc-4371-b45d-fdd32d76f4cd",
   "metadata": {},
   "outputs": [],
   "source": [
    "plotcld(-166, 1645,1) \n",
    "plotcld(2536, 1645,1)\n",
    "plotcld(-850-186+20, -1285-500-1285-1645-200,-1)\n",
    "plotcld(850-186+20, -1285-500-1285-1645-200,-1)\n",
    "plotcld(2550-186+20, -1285-500-1285-1645-200,-1)"
   ]
  },
  {
   "cell_type": "code",
   "execution_count": null,
   "id": "c6aa8053-20a4-4710-ae24-20df16ff53ed",
   "metadata": {},
   "outputs": [
    {
     "name": "stderr",
     "output_type": "stream",
     "text": [
      "C:\\Users\\ASUS\\anaconda3\\envs\\kernel\\lib\\site-packages\\ipykernel_launcher.py:1: DeprecationWarning: [GDSPY] Use of the global library is deprecated.  Pass LayoutViewer a GdsLibrary instance.\n",
      "  \"\"\"Entry point for launching an IPython kernel.\n"
     ]
    }
   ],
   "source": [
    "gdspy.LayoutViewer()"
   ]
  },
  {
   "cell_type": "code",
   "execution_count": null,
   "id": "be5c12b0-48d4-415b-85da-7d1c32f147a3",
   "metadata": {},
   "outputs": [],
   "source": [
    "#lib.write_gds('202208261745.gds')"
   ]
  },
  {
   "cell_type": "code",
   "execution_count": null,
   "id": "ec4654d8-b870-43fa-9777-d48181f1dad3",
   "metadata": {},
   "outputs": [],
   "source": []
  },
  {
   "cell_type": "code",
   "execution_count": null,
   "id": "b88008c1-7a04-47b5-a002-f94018769861",
   "metadata": {},
   "outputs": [],
   "source": []
  }
 ],
 "metadata": {
  "kernelspec": {
   "display_name": "Python 3 (ipykernel)",
   "language": "python",
   "name": "python3"
  },
  "language_info": {
   "codemirror_mode": {
    "name": "ipython",
    "version": 3
   },
   "file_extension": ".py",
   "mimetype": "text/x-python",
   "name": "python",
   "nbconvert_exporter": "python",
   "pygments_lexer": "ipython3",
   "version": "3.7.10"
  }
 },
 "nbformat": 4,
 "nbformat_minor": 5
}
