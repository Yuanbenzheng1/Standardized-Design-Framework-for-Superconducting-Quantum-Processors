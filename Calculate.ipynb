{
 "cells": [
  {
   "cell_type": "code",
   "execution_count": 95,
   "metadata": {
    "tags": []
   },
   "outputs": [],
   "source": [
    "import matplotlib.pyplot as plt\n",
    "from mpl_toolkits.mplot3d import Axes3D\n",
    "import numpy as np\n",
    "import xlwt\n",
    "from scipy.special import ellipk"
   ]
  },
  {
   "cell_type": "markdown",
   "metadata": {
    "tags": []
   },
   "source": [
    "## Qubit parameters\n",
    "##### w10、Ec、Ej、α、Rn\n"
   ]
  },
  {
   "cell_type": "code",
   "execution_count": 149,
   "metadata": {},
   "outputs": [],
   "source": [
    "# define constants\n",
    "e = 1.60217657e-19  # electron charge \n",
    "h = 6.62606957e-34  # Plank's constant\n",
    "hbar = 1.0545718E-34  # \n",
    "phinot = 2.067 * 1E-15  # magnetic flux quantum\n",
    "phi0 = phinot / (2 * np.pi)  # reduced magnetic flux quantum\n",
    "c = 3*10**8\n",
    "##  Ec\n",
    "Ec = 300*10**6\n",
    "## \n",
    "α = -300*10**6\n",
    "\n",
    "Qzpf =np.sqrt(hbar/100)\n",
    "\n",
    "# \n",
    "def Ic(Rn):\n",
    "    Ic = np.pi *0.182*10**-3/2/Rn\n",
    "    return Ic\n",
    "\n",
    "def Lj(Ic):\n",
    "    Lj = hbar/2/e/Ic\n",
    "    return Lj\n",
    "\n",
    "## \n",
    "def Ec(Cq):\n",
    "    Ec = e*e/2/Cq/h\n",
    "    return Ec\n",
    "\n",
    "# \n",
    "def Ej(Ic):\n",
    "    Ej = Ic*phi0/2/np.pi/hbar\n",
    "    return Ej\n",
    "\n",
    "## \n",
    "def single_fq(Ec,Ej):\n",
    "    k = Ej/Ec\n",
    "    fq = np.sqrt(8*Ec)*np.sqrt(Ec*k)-Ec\n",
    "    return fq\n",
    "\n",
    "def fq_calculation(Rn,Cq): \n",
    "    Ic = np.pi *0.182*10**-3/2/Rn\n",
    "    Ej = Ic*phi0/h  \n",
    "    Ec = e*e/2/Cq/h \n",
    "    k = Ej/Ec\n",
    "    fq = np.sqrt(8*Ec)*np.sqrt(Ec*k)-Ec\n",
    "    print(\"If Rn =\" , Rn ,', Cq = ', Cq)\n",
    "    print(\"then, Ic =\" ,Ic*10**9,\"nA\")\n",
    "    print(\"then, Ej =\" ,Ej/10**9, \"GHz\")\n",
    "    print(\"then, Ec =\" ,Ec/10**6, \"MHz\")\n",
    "    print(\"then, Ej/Ec =\" ,k)\n",
    "    print(\"then, fq =\" ,fq/10**9, \"GHz\")\n",
    "    \n",
    "\n",
    "def CPW_length_4(fr,k): #（）\n",
    "    l = c/4/fr/(np.sqrt((k+1)/2))\n",
    "    print(\"For λ/4, if fr = \",fr/10**9,\"GHz\",\"then l = \",l*10**6,\"um\")\n",
    "\n",
    "def CPW_length_2(fr,k):\n",
    "    l = c/2/fr/(np.sqrt((k+1)/2))\n",
    "    print(\"For λ/2, if fr = \",fr/10**9,\"GHz\",\"then l = \",l*10**6,\"um\")\n",
    "    \n",
    "\n",
    "## \n",
    "def Cr_4(fr,Z0): #（fc，Z0）\n",
    "    Cr = 1/8/fr/Z0\n",
    "    print(\"For λ/4, if fr = \",fr,\"then Cr = \",Cr)\n",
    "    \n",
    "## λ/2\n",
    "def Cr_2(fr,Z0): #\n",
    "    Cr = 1/4/fr/Z0\n",
    "    print(\"For λ/2, if fr = \",fr,\"then Cr = \",Cr)    \n",
    "\n",
    "\n",
    "##\n",
    "def g_lambda2(Cg1,fr,Cq1,fq1): #\n",
    "    Cr = 1/4/fr/50   \n",
    "    g = (Cg1/2)*np.sqrt(fr*fq1/Cr/Cq1)\n",
    "    print(\"if 耦合腔频 fr = \",fr)\n",
    "    print(\"and 耦合电容 Cg1= \",Cg1)\n",
    "    print(\"and 量子比特1频率 fq1 =\",fq1)\n",
    "    print('and 耦合腔电容 Cr = ', Cr)\n",
    "    print('and 量子比特1电容 Cq1 = ', Cq1)\n",
    "    print(\"then g1(Qubit-lambda2_resonator)=\", g)\n",
    "    \n",
    "def g_lambda4(Cg2,fr,Cq2,fq2): #\n",
    "    Cr = 1/8/fr/50\n",
    "    g = (Cg2/2)*np.sqrt(fr*fq2/Cr/Cq2)\n",
    "    print(\"if fr = \",fr)\n",
    "    print(\"and Cg2= \",Cg2)\n",
    "    print(\"and fq2 =\",fq2)\n",
    "    print('and Cr = ', Cr)\n",
    "    print('and Cq2 = ', Cq2)\n",
    "    print(\"then g(Qubit-lambda4_resonator)=\", g)    \n",
    "    \n",
    "#：Q-Q\n",
    "def g_qrq(g1,g2,det1,det2): #\n",
    "    g_qrq = (g1*g2)*((1/det1) + (1/det2))/2\n",
    "    print(\"g_q-r-q = \", g_qrq)\n",
    "    \n",
    "# T1\n",
    "def T1(w10,wr,g,Ql): #\n",
    "    r=wr/Ql\n",
    "    T1 = (w10-wr)**2/g**2/r\n",
    "    print(\"if w10 = \",w10)\n",
    "    print(\"and wr= \",wr)\n",
    "    print(\"and g =\",g)\n",
    "    print('and Ql = ', Ql)\n",
    "    print(\"then T1=\", T1)\n",
    "    \n",
    "# \n",
    "def Dispersion_shift(g,fq,fr):\n",
    "    x = g*g/(fr-fq)/(2*np.pi)\n",
    "    print(x)\n",
    "    \n",
    "    \n",
    "# \n",
    "def Ej_from_fq(fq,Ec):\n",
    "    Ej = (fq+Ec)**2/8/Ec\n",
    "    k = Ej/Ec\n",
    "    print(\"if fq = \",fq/10**9,\"GHz\",\"then Ej = \",Ej/10**9,\"GHz\",\"k=\",k)\n",
    "    return Ej\n",
    "\n",
    "def Ic_from_Ej(Ej):\n",
    "    Ic = Ej*h/phi0\n",
    "    print(\"if Ej=\",Ej/10**9,\"GHz\",\"Ic=\",Ic/10**-9,\"nA\")\n",
    "    return Ic\n",
    "\n",
    "def Rn_from_Ic(Ic):\n",
    "    Rn = np.pi *0.182*10**-3/2/Ic\n",
    "    print(\"if Ic=\",Ic*10**9,\"nA\",\"Rn=\",Rn,\"Ω\")\n",
    "    return Rn\n",
    "\n"
   ]
  },
  {
   "cell_type": "code",
   "execution_count": 142,
   "metadata": {},
   "outputs": [
    {
     "data": {
      "text/plain": [
       "307463959.8838242"
      ]
     },
     "execution_count": 142,
     "metadata": {},
     "output_type": "execute_result"
    }
   ],
   "source": [
    "Ec(63*10**(-15))"
   ]
  },
  {
   "cell_type": "code",
   "execution_count": 143,
   "metadata": {},
   "outputs": [
    {
     "name": "stdout",
     "output_type": "stream",
     "text": [
      "if fq =  5.0 GHz then Ej =  11.452225854417804 GHz k= 37.247376436396145\n",
      "if fq =  5.07 GHz then Ej =  11.75630415788236 GHz k= 38.236364881023775\n",
      "if fq =  5.13 GHz then Ej =  12.020113807081263 GHz k= 39.09438300223247\n",
      "if fq =  5.2 GHz then Ej =  12.331591351747484 GHz k= 40.10743684042512\n",
      "if fq =  5.27 GHz then Ej =  12.647053103214601 GHz k= 41.13344896746048\n"
     ]
    },
    {
     "data": {
      "text/plain": [
       "12647053103.214602"
      ]
     },
     "execution_count": 143,
     "metadata": {},
     "output_type": "execute_result"
    }
   ],
   "source": [
    "Ej_from_fq(5*10**9,307463959.8838242)\n",
    "Ej_from_fq(5.07*10**9,307463959.8838242)\n",
    "Ej_from_fq(5.13*10**9,307463959.8838242)\n",
    "Ej_from_fq(5.20*10**9,307463959.8838242)\n",
    "Ej_from_fq(5.27*10**9,307463959.8838242)"
   ]
  },
  {
   "cell_type": "code",
   "execution_count": 144,
   "metadata": {},
   "outputs": [
    {
     "name": "stdout",
     "output_type": "stream",
     "text": [
      "if Ej= 11.452225854417804 GHz Ic= 23.066690448485495 nA\n",
      "if Ej= 11.75630415788236 GHz Ic= 23.679154801466435 nA\n",
      "if Ej= 12.020113807081263 GHz Ic= 24.210511377275424 nA\n",
      "if Ej= 12.331591351747484 GHz Ic= 24.83787903451547 nA\n",
      "if Ej= 12.647053103214601 GHz Ic= 25.47327154789505 nA\n"
     ]
    },
    {
     "data": {
      "text/plain": [
       "2.547327154789505e-08"
      ]
     },
     "execution_count": 144,
     "metadata": {},
     "output_type": "execute_result"
    }
   ],
   "source": [
    "Ic_from_Ej(11.452225854417804*10**9)\n",
    "Ic_from_Ej(11.75630415788236*10**9)\n",
    "Ic_from_Ej(12.020113807081263*10**9)\n",
    "Ic_from_Ej(12.331591351747484*10**9)\n",
    "Ic_from_Ej(12.647053103214601*10**9)"
   ]
  },
  {
   "cell_type": "code",
   "execution_count": 145,
   "metadata": {},
   "outputs": [
    {
     "name": "stdout",
     "output_type": "stream",
     "text": [
      "if Ic= 23.0666904484855 nA Rn= 12393.842632740652 Ω\n",
      "if Ic= 23.679154801466435 nA Rn= 12073.274315473729 Ω\n",
      "if Ic= 24.210511377275427 nA Rn= 11808.297933971346 Ω\n",
      "if Ic= 24.837879034515474 nA Rn= 11510.037997986734 Ω\n",
      "if Ic= 25.47327154789505 nA Rn= 11222.937381213404 Ω\n"
     ]
    },
    {
     "data": {
      "text/plain": [
       "11222.937381213404"
      ]
     },
     "execution_count": 145,
     "metadata": {},
     "output_type": "execute_result"
    }
   ],
   "source": [
    "Rn_from_Ic(23.066690448485495*10**-9)\n",
    "Rn_from_Ic(23.679154801466435*10**-9)\n",
    "Rn_from_Ic(24.210511377275424*10**-9)\n",
    "Rn_from_Ic(24.83787903451547*10**-9)\n",
    "Rn_from_Ic(25.47327154789505*10**-9)"
   ]
  },
  {
   "cell_type": "markdown",
   "metadata": {},
   "source": [
    "## 验收频率计算 "
   ]
  },
  {
   "cell_type": "code",
   "execution_count": 146,
   "metadata": {},
   "outputs": [
    {
     "name": "stdout",
     "output_type": "stream",
     "text": [
      "If Rn = 12000 , Cq =  6.5e-14\n",
      "then, Ic = 23.823744289722598 nA\n",
      "then, Ej = 11.82809041952151 GHz\n",
      "then, Ec = 298.0035303489373 MHz\n",
      "then, Ej/Ec = 39.6911083760377\n",
      "then, fq = 5.012222605931027 GHz\n"
     ]
    }
   ],
   "source": [
    "fq_calculation(12000, 65e-15) #190*190"
   ]
  },
  {
   "cell_type": "code",
   "execution_count": null,
   "metadata": {},
   "outputs": [],
   "source": []
  },
  {
   "cell_type": "code",
   "execution_count": null,
   "metadata": {},
   "outputs": [],
   "source": []
  },
  {
   "cell_type": "markdown",
   "metadata": {},
   "source": [
    "### 比特频率计算"
   ]
  },
  {
   "cell_type": "code",
   "execution_count": 147,
   "metadata": {},
   "outputs": [
    {
     "name": "stdout",
     "output_type": "stream",
     "text": [
      "If Rn = 12000 , Cq =  6.5e-14\n",
      "then, Ic = 23.823744289722598 nA\n",
      "then, Ej = 11.82809041952151 GHz\n",
      "then, Ec = 298.0035303489373 MHz\n",
      "then, Ej/Ec = 39.6911083760377\n",
      "then, fq = 5.012222605931027 GHz\n",
      "********************************\n",
      "If Rn = 11000 , Cq =  6.5e-14\n",
      "then, Ic = 25.989539225151923 nA\n",
      "then, Ej = 12.903371366750738 GHz\n",
      "then, Ec = 298.0035303489373 MHz\n",
      "then, Ej/Ec = 43.29939095567749\n",
      "then, fq = 5.248346780040851 GHz\n",
      "********************************\n",
      "If Rn = 10000 , Cq =  6.5e-14\n",
      "then, Ic = 28.58849314766712 nA\n",
      "then, Ej = 14.193708503425812 GHz\n",
      "then, Ec = 298.0035303489373 MHz\n",
      "then, Ej/Ec = 47.62933005124523\n",
      "then, fq = 5.519057750239139 GHz\n",
      "********************************\n",
      "If Rn = 9000 , Cq =  6.5e-14\n",
      "then, Ic = 31.764992386296797 nA\n",
      "then, Ej = 15.770787226028682 GHz\n",
      "then, Ec = 298.0035303489373 MHz\n",
      "then, Ej/Ec = 52.92147783471694\n",
      "then, fq = 5.833717448129111 GHz\n"
     ]
    }
   ],
   "source": [
    "fq_calculation(12000, 65e-15) #190*190\n",
    "print('********************************')\n",
    "fq_calculation(11000, 65e-15)\n",
    "print('********************************')\n",
    "fq_calculation(10000, 65e-15)\n",
    "print('********************************')\n",
    "fq_calculation(9000, 65e-15)"
   ]
  },
  {
   "cell_type": "markdown",
   "metadata": {
    "tags": []
   },
   "source": [
    "### CPW长度计算"
   ]
  },
  {
   "cell_type": "code",
   "execution_count": 150,
   "metadata": {},
   "outputs": [
    {
     "name": "stdout",
     "output_type": "stream",
     "text": [
      "For λ/2, if fr =  6.8 GHz then l =  9405.913956865166 um\n",
      "For λ/2, if fr =  10.0 GHz then l =  6396.021490668312 um\n",
      "For λ/2, if fr =  15.0 GHz then l =  4264.014327112209 um\n",
      "For λ/4, if fr =  6.5 GHz then l =  4920.016531283318 um\n",
      "For λ/4, if fr =  6.6 GHz then l =  4845.470826263873 um\n",
      "For λ/4, if fr =  6.7 GHz then l =  4773.150366170383 um\n",
      "For λ/4, if fr =  7.0 GHz then l =  4568.586779048795 um\n",
      "For λ/4, if fr =  7.1 GHz then l =  4504.240486386136 um\n"
     ]
    }
   ],
   "source": [
    "## 若比特间的耦合腔频为6.31GHZ，计算耦合腔的长度\n",
    "CPW_length_2(6.8*10**9,10)\n",
    "CPW_length_2(10*10**9,10)\n",
    "CPW_length_2(15*10**9,10)\n",
    "\n",
    "CPW_length_4(6.5*10**9,10)\n",
    "CPW_length_4(6.6*10**9,10)\n",
    "CPW_length_4(6.7*10**9,10)\n",
    "CPW_length_4(7.0*10**9,10)\n",
    "CPW_length_4(7.1*10**9,10)\n"
   ]
  },
  {
   "cell_type": "markdown",
   "metadata": {},
   "source": [
    "### 谐振腔的的等效电容"
   ]
  },
  {
   "cell_type": "code",
   "execution_count": 108,
   "metadata": {},
   "outputs": [
    {
     "name": "stdout",
     "output_type": "stream",
     "text": [
      "For λ/2, if fr =  7000000000 then Cr =  7.142857142857142e-13\n",
      "For λ/4, if fr =  7000000000 then Cr =  3.571428571428571e-13\n"
     ]
    }
   ],
   "source": [
    "# 耦合腔电容\n",
    "Cr_2(7*10**9, 50)\n",
    "\n",
    "# 读取腔电容\n",
    "Cr_4(7*10**9, 50)"
   ]
  },
  {
   "cell_type": "markdown",
   "metadata": {},
   "source": [
    "### 量子比特与谐振腔的耦合强度计算"
   ]
  },
  {
   "cell_type": "code",
   "execution_count": 189,
   "metadata": {},
   "outputs": [
    {
     "name": "stdout",
     "output_type": "stream",
     "text": [
      "For λ/2, if fr =  6500000000.0 then Cr =  7.692307692307692e-13\n",
      "if fr =  7000000000.0\n",
      "and Cg2=  1e-14\n",
      "and fq2 = 5500000000.0\n",
      "and Cr =  3.571428571428571e-13\n",
      "and Cq2 =  6.5e-14\n",
      "then g(Qubit-lambda4_resonator)= 203621065.85895887\n"
     ]
    }
   ],
   "source": [
    "# 参数： 腔频率，特性阻抗\n",
    "Cr_2(6.5*10**9,50)\n",
    "\n",
    "# 参数：耦合电容，腔频，比特电容，比特频率\n",
    "g_lambda4(10e-15,7e9,65e-15,5.5e9)"
   ]
  },
  {
   "cell_type": "code",
   "execution_count": 190,
   "metadata": {},
   "outputs": [
    {
     "name": "stdout",
     "output_type": "stream",
     "text": [
      "4458654.553159129\n"
     ]
    }
   ],
   "source": [
    "Dispersion_shift(203621065,5.52e9,7e9)"
   ]
  },
  {
   "cell_type": "code",
   "execution_count": 36,
   "metadata": {},
   "outputs": [
    {
     "name": "stdout",
     "output_type": "stream",
     "text": [
      "For λ/4, if fr =  6800000000.0 then Cr =  3.676470588235294e-13\n",
      "if fr =  6800000000.0\n",
      "and Cg2=  1.15e-14\n",
      "and fq2 = 4600000000.0\n",
      "and Cr =  3.676470588235294e-13\n",
      "and Cq2 =  3.7e-13\n",
      "then g(Qubit-lambda4_resonator)= 87193639.73829061\n"
     ]
    }
   ],
   "source": [
    "Cr_4(6.8*10**9,50)\n",
    "g_lambda4(11.5e-15,6.8e9,3.7e-13,4.6e9)"
   ]
  },
  {
   "cell_type": "markdown",
   "metadata": {
    "tags": []
   },
   "source": [
    "### 量子比特之间的耦合强度计算"
   ]
  },
  {
   "cell_type": "code",
   "execution_count": 87,
   "metadata": {},
   "outputs": [
    {
     "name": "stdout",
     "output_type": "stream",
     "text": [
      "if 耦合腔频 fr =  10000000000\n",
      "and 耦合电容 Cg1=  5.7e-15\n",
      "and 量子比特1频率 fq1 = 5000000000.0\n",
      "and 耦合腔电容 Cr =  5e-13\n",
      "and 量子比特1电容 Cq1 =  6.5e-14\n",
      "then g1(Qubit-lambda2_resonator)= 111786197.0287649\n",
      "if 耦合腔频 fr =  10000000000\n",
      "and 耦合电容 Cg1=  5.7e-15\n",
      "and 量子比特1频率 fq1 = 5070000000.0\n",
      "and 耦合腔电容 Cr =  5e-13\n",
      "and 量子比特1电容 Cq1 =  6.5e-14\n",
      "then g1(Qubit-lambda2_resonator)= 112565980.65134956\n",
      "if 耦合腔频 fr =  10000000000\n",
      "and 耦合电容 Cg1=  5.7e-15\n",
      "and 量子比特1频率 fq1 = 5130000000.0\n",
      "and 耦合腔电容 Cr =  5e-13\n",
      "and 量子比特1电容 Cq1 =  6.5e-14\n",
      "then g1(Qubit-lambda2_resonator)= 113230092.49379712\n",
      "if 耦合腔频 fr =  10000000000\n",
      "and 耦合电容 Cg1=  5.7e-15\n",
      "and 量子比特1频率 fq1 = 5200000000.0\n",
      "and 耦合腔电容 Cr =  5e-13\n",
      "and 量子比特1电容 Cq1 =  6.5e-14\n",
      "then g1(Qubit-lambda2_resonator)= 114000000.0\n",
      "if 耦合腔频 fr =  10000000000\n",
      "and 耦合电容 Cg1=  5.7e-15\n",
      "and 量子比特1频率 fq1 = 5270000000.0\n",
      "and 耦合腔电容 Cr =  5e-13\n",
      "and 量子比特1电容 Cq1 =  6.5e-14\n",
      "then g1(Qubit-lambda2_resonator)= 114764742.64270431\n"
     ]
    }
   ],
   "source": [
    "# 参数：耦合电容，腔频，比特电容，比特频率\n",
    "g_lambda2(5.7e-15, 10*10**9, 65e-15,5.0*10**9)\n",
    "\n",
    "# 参数：耦合电容，腔频，比特电容，比特频率\n",
    "g_lambda2(5.7e-15, 10*10**9, 65e-15,5.07*10**9)\n",
    "\n",
    "g_lambda2(5.7e-15, 10*10**9, 65e-15,5.13*10**9)\n",
    "\n",
    "g_lambda2(5.7e-15, 10*10**9, 65e-15,5.20*10**9)\n",
    "\n",
    "g_lambda2(5.7e-15, 10*10**9, 65e-15,5.27*10**9)"
   ]
  },
  {
   "cell_type": "code",
   "execution_count": 89,
   "metadata": {},
   "outputs": [
    {
     "name": "stdout",
     "output_type": "stream",
     "text": [
      "g_q-r-q =  2639054.555646814\n"
     ]
    }
   ],
   "source": [
    "# 参数：耦合强度1，耦合强度2，频差1，频差2\n",
    "g_qrq(111786197,114764742.64270431,5*10**9,4.73*10**9)"
   ]
  },
  {
   "cell_type": "code",
   "execution_count": null,
   "metadata": {},
   "outputs": [],
   "source": []
  },
  {
   "cell_type": "code",
   "execution_count": 109,
   "metadata": {},
   "outputs": [
    {
     "name": "stdout",
     "output_type": "stream",
     "text": [
      "if 耦合腔频 fr =  10000000000\n",
      "and 耦合电容 Cg1=  1.06e-14\n",
      "and 量子比特1频率 fq1 = 5000000000.0\n",
      "and 耦合腔电容 Cr =  5e-13\n",
      "and 量子比特1电容 Cq1 =  6.5e-14\n",
      "then g1(Qubit-lambda2_resonator)= 207883103.24647507\n",
      "if 耦合腔频 fr =  10000000000\n",
      "and 耦合电容 Cg1=  1.06e-14\n",
      "and 量子比特1频率 fq1 = 5070000000.0\n",
      "and 耦合腔电容 Cr =  5e-13\n",
      "and 量子比特1电容 Cq1 =  6.5e-14\n",
      "then g1(Qubit-lambda2_resonator)= 209333227.17619392\n",
      "if 耦合腔频 fr =  10000000000\n",
      "and 耦合电容 Cg1=  1.06e-14\n",
      "and 量子比特1频率 fq1 = 5130000000.0\n",
      "and 耦合腔电容 Cr =  5e-13\n",
      "and 量子比特1电容 Cq1 =  6.5e-14\n",
      "then g1(Qubit-lambda2_resonator)= 210568242.18144727\n",
      "if 耦合腔频 fr =  10000000000\n",
      "and 耦合电容 Cg1=  1.06e-14\n",
      "and 量子比特1频率 fq1 = 5200000000.0\n",
      "and 耦合腔电容 Cr =  5e-13\n",
      "and 量子比特1电容 Cq1 =  6.5e-14\n",
      "then g1(Qubit-lambda2_resonator)= 212000000.0\n",
      "if 耦合腔频 fr =  10000000000\n",
      "and 耦合电容 Cg1=  1.06e-14\n",
      "and 量子比特1频率 fq1 = 5270000000.0\n",
      "and 耦合腔电容 Cr =  5e-13\n",
      "and 量子比特1电容 Cq1 =  6.5e-14\n",
      "then g1(Qubit-lambda2_resonator)= 213422152.98467818\n"
     ]
    }
   ],
   "source": [
    "# 参数：耦合电容，腔频，比特电容，比特频率\n",
    "g_lambda2(10.6e-15, 10*10**9, 65e-15,5.0*10**9)\n",
    "\n",
    "# 参数：耦合电容，腔频，比特电容，比特频率\n",
    "g_lambda2(10.6e-15, 10*10**9, 65e-15,5.07*10**9)\n",
    "\n",
    "g_lambda2(10.6e-15, 10*10**9, 65e-15,5.13*10**9)\n",
    "\n",
    "g_lambda2(10.6e-15, 10*10**9, 65e-15,5.20*10**9)\n",
    "\n",
    "g_lambda2(10.6e-15, 10*10**9, 65e-15,5.27*10**9)"
   ]
  },
  {
   "cell_type": "code",
   "execution_count": 94,
   "metadata": {},
   "outputs": [
    {
     "name": "stdout",
     "output_type": "stream",
     "text": [
      "g_q-r-q =  8020894.938146944\n"
     ]
    }
   ],
   "source": [
    "g_qrq(207883103,209333227,5*10**9,5.93*10**9)"
   ]
  },
  {
   "cell_type": "code",
   "execution_count": null,
   "metadata": {},
   "outputs": [],
   "source": []
  },
  {
   "cell_type": "markdown",
   "metadata": {},
   "source": [
    "### 验收色散位移g的计算"
   ]
  },
  {
   "cell_type": "code",
   "execution_count": 123,
   "metadata": {},
   "outputs": [
    {
     "name": "stdout",
     "output_type": "stream",
     "text": [
      "if fr =  6000000000.0\n",
      "and Cg2=  1.06e-14\n",
      "and fq2 = 5000000000.0\n",
      "and Cr =  4.1666666666666664e-13\n",
      "and Cq2 =  6.5e-14\n",
      "then g(Qubit-lambda4_resonator)= 176394662.39962286\n"
     ]
    }
   ],
   "source": [
    "# 参数：耦合电容，腔频，比特电容，比特频率\n",
    "g_lambda4(10.6e-15,6e9,65e-15,5.0e9)"
   ]
  },
  {
   "cell_type": "code",
   "execution_count": 124,
   "metadata": {},
   "outputs": [
    {
     "name": "stdout",
     "output_type": "stream",
     "text": [
      "4952118.274554163\n"
     ]
    }
   ],
   "source": [
    "Dispersion_shift(176394662,5e9,6e9)"
   ]
  },
  {
   "cell_type": "code",
   "execution_count": 119,
   "metadata": {},
   "outputs": [
    {
     "name": "stdout",
     "output_type": "stream",
     "text": [
      "if fr =  5070000000.0\n",
      "and Cg2=  1.06e-14\n",
      "and fq2 = 6100000000.0\n",
      "and Cr =  4.930966469428008e-13\n",
      "and Cq2 =  6.5e-14\n",
      "then g(Qubit-lambda4_resonator)= 164634960.49138528\n",
      "4188196.3300981126\n"
     ]
    }
   ],
   "source": [
    "g_lambda4(10.6e-15,5.07e9,65e-15,6.1e9)\n",
    "Dispersion_shift(164634960,5.07e9,6.1e9)"
   ]
  },
  {
   "cell_type": "code",
   "execution_count": 115,
   "metadata": {},
   "outputs": [
    {
     "name": "stdout",
     "output_type": "stream",
     "text": [
      "if fr =  5130000000.0\n",
      "and Cg2=  1.06e-14\n",
      "and fq2 = 6130000000.0\n",
      "and Cr =  4.873294346978557e-13\n",
      "and Cq2 =  6.5e-14\n",
      "then g(Qubit-lambda4_resonator)= 166992431.88249812\n",
      "4438269.865990554\n"
     ]
    }
   ],
   "source": [
    "g_lambda4(10.6e-15,5.13e9,65e-15,6.2e9)\n",
    "Dispersion_shift(166992431,5.13e9,6.13e9)"
   ]
  },
  {
   "cell_type": "markdown",
   "metadata": {},
   "source": [
    "### 论文色散位移 "
   ]
  },
  {
   "cell_type": "code",
   "execution_count": 129,
   "metadata": {},
   "outputs": [
    {
     "name": "stdout",
     "output_type": "stream",
     "text": [
      "if fr =  6500000000.0\n",
      "and Cg2=  1.06e-14\n",
      "and fq2 = 4708000000.0\n",
      "and Cr =  3.846153846153846e-13\n",
      "and Cq2 =  6.5e-14\n",
      "then g(Qubit-lambda4_resonator)= 185430329.7737455\n",
      "3053821.6102091325\n"
     ]
    }
   ],
   "source": [
    "# 参数：耦合电容，腔频，比特电容，比特频率\n",
    "g_lambda4(10.6e-15,6.5e9,65e-15,4.708e9)\n",
    "Dispersion_shift(185430329,4.708e9,6.5e9)"
   ]
  },
  {
   "cell_type": "code",
   "execution_count": null,
   "metadata": {},
   "outputs": [],
   "source": []
  },
  {
   "cell_type": "code",
   "execution_count": null,
   "metadata": {},
   "outputs": [],
   "source": []
  },
  {
   "cell_type": "code",
   "execution_count": null,
   "metadata": {},
   "outputs": [],
   "source": []
  },
  {
   "cell_type": "code",
   "execution_count": null,
   "metadata": {},
   "outputs": [],
   "source": []
  },
  {
   "cell_type": "code",
   "execution_count": 255,
   "metadata": {},
   "outputs": [
    {
     "name": "stdout",
     "output_type": "stream",
     "text": [
      "if 耦合腔频 fr =  10000000000\n",
      "and 耦合电容 Cg1=  6.3e-15\n",
      "and 量子比特1频率 fq1 = 5240000000.0\n",
      "and 耦合腔电容 Cr =  5e-13\n",
      "and 量子比特1电容 Cq1 =  6.5e-14\n",
      "then g1(Qubit-lambda2_resonator)= 126483686.99924539\n"
     ]
    }
   ],
   "source": [
    "g_lambda2(6.3e-15, 10*10**9, 65e-15,5.24*10**9)"
   ]
  },
  {
   "cell_type": "code",
   "execution_count": 256,
   "metadata": {},
   "outputs": [
    {
     "name": "stdout",
     "output_type": "stream",
     "text": [
      "g_q-r-q =  3210623.4190983153\n"
     ]
    }
   ],
   "source": [
    "# 参数：耦合强度1，耦合强度2，频差1，频差2\n",
    "g_qrq(123676656,126483686,4.99*10**9,4.76*10**9)"
   ]
  },
  {
   "cell_type": "code",
   "execution_count": 248,
   "metadata": {},
   "outputs": [
    {
     "name": "stdout",
     "output_type": "stream",
     "text": [
      "if 耦合腔频 fr =  10000000000\n",
      "and 耦合电容 Cg1=  6.3e-15\n",
      "and 量子比特1频率 fq1 = 5010000000.0\n",
      "and 耦合腔电容 Cr =  5e-13\n",
      "and 量子比特1电容 Cq1 =  6.5e-14\n",
      "then g1(Qubit-lambda2_resonator)= 123676656.5873099\n"
     ]
    }
   ],
   "source": [
    "# 参数：耦合电容，腔频，比特电容，比特频率\n",
    "g_lambda2(6.3e-15, 10*10**9, 65e-15,5.01*10**9)"
   ]
  },
  {
   "cell_type": "code",
   "execution_count": 249,
   "metadata": {},
   "outputs": [
    {
     "name": "stdout",
     "output_type": "stream",
     "text": [
      "if 耦合腔频 fr =  10000000000\n",
      "and 耦合电容 Cg1=  6.3e-15\n",
      "and 量子比特1频率 fq1 = 5240000000.0\n",
      "and 耦合腔电容 Cr =  5e-13\n",
      "and 量子比特1电容 Cq1 =  6.5e-14\n",
      "then g1(Qubit-lambda2_resonator)= 126483686.99924539\n"
     ]
    }
   ],
   "source": [
    "g_lambda2(6.3e-15, 10*10**9, 65e-15,5.24*10**9)"
   ]
  },
  {
   "cell_type": "code",
   "execution_count": 250,
   "metadata": {},
   "outputs": [
    {
     "name": "stdout",
     "output_type": "stream",
     "text": [
      "g_q-r-q =  3210623.4190983153\n"
     ]
    }
   ],
   "source": [
    "# 参数：耦合强度1，耦合强度2，频差1，频差2\n",
    "g_qrq(123676656,126483686,4.99*10**9,4.76*10**9)"
   ]
  },
  {
   "cell_type": "code",
   "execution_count": 251,
   "metadata": {},
   "outputs": [
    {
     "name": "stdout",
     "output_type": "stream",
     "text": [
      "if 耦合腔频 fr =  10000000000\n",
      "and 耦合电容 Cg1=  6.3e-15\n",
      "and 量子比特1频率 fq1 = 5520000000.0\n",
      "and 耦合腔电容 Cr =  5e-13\n",
      "and 量子比特1电容 Cq1 =  6.5e-14\n",
      "then g1(Qubit-lambda2_resonator)= 129819045.65734804\n"
     ]
    }
   ],
   "source": [
    "g_lambda2(6.3e-15, 10*10**9, 65e-15,5.52*10**9)"
   ]
  },
  {
   "cell_type": "code",
   "execution_count": 252,
   "metadata": {},
   "outputs": [
    {
     "name": "stdout",
     "output_type": "stream",
     "text": [
      "if 耦合腔频 fr =  10000000000\n",
      "and 耦合电容 Cg1=  6.3e-15\n",
      "and 量子比特1频率 fq1 = 5240000000.0\n",
      "and 耦合腔电容 Cr =  5e-13\n",
      "and 量子比特1电容 Cq1 =  6.5e-14\n",
      "then g1(Qubit-lambda2_resonator)= 126483686.99924539\n"
     ]
    }
   ],
   "source": [
    "g_lambda2(6.3e-15, 10*10**9, 65e-15,5.24*10**9)"
   ]
  },
  {
   "cell_type": "code",
   "execution_count": 253,
   "metadata": {},
   "outputs": [
    {
     "name": "stdout",
     "output_type": "stream",
     "text": [
      "g_q-r-q =  3557377.3221625243\n"
     ]
    }
   ],
   "source": [
    "# 参数：耦合强度1，耦合强度2，频差1，频差2\n",
    "g_qrq(129819045,126483686,4.48*10**9,4.76*10**9)"
   ]
  },
  {
   "cell_type": "code",
   "execution_count": 123,
   "metadata": {},
   "outputs": [
    {
     "name": "stdout",
     "output_type": "stream",
     "text": [
      "if 耦合腔频 fr =  6800000000.0\n",
      "and 耦合电容 Cg1=  1.1e-14\n",
      "and 量子比特1频率 fq1 = 4900000000.0\n",
      "and 耦合腔电容 Cr =  7.352941176470588e-13\n",
      "and 量子比特1电容 Cq1 =  6.5e-14\n",
      "then g1(Qubit-lambda2_resonator)= 145220511.371765\n"
     ]
    }
   ],
   "source": [
    "# 参数：耦合电容，腔频，比特电容，比特频率\n",
    "g_lambda2(11e-15, 6.8*10**9, 65e-15,4.9*10**9)"
   ]
  },
  {
   "cell_type": "code",
   "execution_count": 125,
   "metadata": {},
   "outputs": [
    {
     "name": "stdout",
     "output_type": "stream",
     "text": [
      "if 耦合腔频 fr =  6800000000.0\n",
      "and 耦合电容 Cg1=  1.1e-14\n",
      "and 量子比特1频率 fq1 = 5100000000.0\n",
      "and 耦合腔电容 Cr =  7.352941176470588e-13\n",
      "and 量子比特1电容 Cq1 =  6.5e-14\n",
      "then g1(Qubit-lambda2_resonator)= 148154555.47397897\n"
     ]
    }
   ],
   "source": [
    "# 参数：耦合电容，腔频，比特电容，比特频率\n",
    "g_lambda2(11e-15, 6.8*10**9, 65e-15,5.1*10**9)"
   ]
  },
  {
   "cell_type": "code",
   "execution_count": 64,
   "metadata": {},
   "outputs": [
    {
     "name": "stdout",
     "output_type": "stream",
     "text": [
      "g_q-r-q =  11989827.966359034\n"
     ]
    }
   ],
   "source": [
    "# 参数：耦合强度1，耦合强度2，频差1，频差2\n",
    "g_qrq(145220511,148154555,1.9*10**9,1.7*10**9)"
   ]
  },
  {
   "cell_type": "markdown",
   "metadata": {},
   "source": [
    "### 色散位移计算"
   ]
  },
  {
   "cell_type": "code",
   "execution_count": 121,
   "metadata": {},
   "outputs": [
    {
     "name": "stdout",
     "output_type": "stream",
     "text": [
      "if fr =  7000000000\n",
      "and Cg2=  1e-14\n",
      "and fq2 = 5010000000.0\n",
      "and Cr =  3.571428571428571e-13\n",
      "and Cq2 =  6.5e-14\n",
      "then g(Qubit-lambda4_resonator)= 194339116.77192605\n"
     ]
    }
   ],
   "source": [
    "# 参数：耦合电容，读取腔频，比特电容，比特频率\n",
    "g_lambda4(10e-15, 7*10**9,65e-15,5.01*10**9)"
   ]
  },
  {
   "cell_type": "code",
   "execution_count": 122,
   "metadata": {},
   "outputs": [
    {
     "name": "stdout",
     "output_type": "stream",
     "text": [
      "3020560.237282206\n"
     ]
    }
   ],
   "source": [
    "Dispersion_shift(194339116,5.01e9,7*10**9)"
   ]
  },
  {
   "cell_type": "markdown",
   "metadata": {},
   "source": [
    "### 相干时间计算"
   ]
  },
  {
   "cell_type": "code",
   "execution_count": 36,
   "metadata": {},
   "outputs": [],
   "source": []
  },
  {
   "cell_type": "code",
   "execution_count": 53,
   "metadata": {},
   "outputs": [
    {
     "name": "stdout",
     "output_type": "stream",
     "text": [
      "if w10 =  4300000000.0\n",
      "and wr=  6500000000.0\n",
      "and g = 136000000\n",
      "and Ql =  9000\n",
      "then T1= 0.00036232366249667287\n"
     ]
    }
   ],
   "source": [
    "T1(4.3*10**9, 6.5*10**9,136*10**6,9000)"
   ]
  },
  {
   "cell_type": "markdown",
   "metadata": {},
   "source": [
    "### Q1"
   ]
  },
  {
   "cell_type": "code",
   "execution_count": 49,
   "metadata": {},
   "outputs": [
    {
     "name": "stdout",
     "output_type": "stream",
     "text": [
      "For λ/4, if fr =  6500000000.0 then Cr =  3.846153846153846e-13\n",
      "if fr =  6500000000.0\n",
      "and Cg2=  1.15e-14\n",
      "and fq2 = 4708000000.0\n",
      "and Cr =  3.846153846153846e-13\n",
      "and Cq2 =  3.846e-13\n",
      "then g(Qubit-lambda4_resonator)= 82703670.41966176\n"
     ]
    }
   ],
   "source": [
    "Cr_4(6.5*10**9,50)\n",
    "g_lambda4(11.5e-15,6.5e9,3.846e-13,4.708e9)"
   ]
  },
  {
   "cell_type": "code",
   "execution_count": 50,
   "metadata": {},
   "outputs": [
    {
     "name": "stdout",
     "output_type": "stream",
     "text": [
      "3816906.8643326093\n"
     ]
    }
   ],
   "source": [
    "Dispersion_shift(82703670.41966176,4.708e9,6.5e9)"
   ]
  },
  {
   "cell_type": "markdown",
   "metadata": {},
   "source": [
    "### Q2"
   ]
  },
  {
   "cell_type": "code",
   "execution_count": 80,
   "metadata": {},
   "outputs": [
    {
     "name": "stdout",
     "output_type": "stream",
     "text": [
      "For λ/4, if fr =  6600000000.0 then Cr =  3.787878787878788e-13\n",
      "if fr =  6600000000.0\n",
      "and Cg2=  1.15e-14\n",
      "and fq2 = 4765000000.0\n",
      "and Cr =  3.787878787878788e-13\n",
      "and Cq2 =  3.787878787878788e-13\n",
      "then g(Qubit-lambda4_resonator)= 85128541.32193267\n"
     ]
    }
   ],
   "source": [
    "Cr_4(6.6*10**9,50)\n",
    "g_lambda4(11.5e-15,6.6e9,3.787878787878788e-13,4.765e9)"
   ]
  },
  {
   "cell_type": "code",
   "execution_count": 81,
   "metadata": {},
   "outputs": [
    {
     "name": "stdout",
     "output_type": "stream",
     "text": [
      "3949247.1649046317\n"
     ]
    }
   ],
   "source": [
    "Dispersion_shift(85128541.32193267,4.765e9,6.6e9)"
   ]
  },
  {
   "cell_type": "markdown",
   "metadata": {},
   "source": [
    "### Q3"
   ]
  },
  {
   "cell_type": "code",
   "execution_count": 82,
   "metadata": {},
   "outputs": [
    {
     "name": "stdout",
     "output_type": "stream",
     "text": [
      "For λ/4, if fr =  6700000000.0 then Cr =  3.7313432835820896e-13\n"
     ]
    }
   ],
   "source": [
    "Cr_4(6.7*10**9,50)"
   ]
  },
  {
   "cell_type": "code",
   "execution_count": 87,
   "metadata": {},
   "outputs": [
    {
     "name": "stdout",
     "output_type": "stream",
     "text": [
      "if fr =  6700000000.0\n",
      "and Cg2=  1.15e-14\n",
      "and fq2 = 4803000000.0\n",
      "and Cr =  3.7313432835820896e-13\n",
      "and Cq2 =  3.7313432835820896e-13\n",
      "then g(Qubit-lambda4_resonator)= 87417087.60196716\n"
     ]
    }
   ],
   "source": [
    "g_lambda4(11.5e-15,6.7e9,3.7313432835820896e-13,4.803e9)"
   ]
  },
  {
   "cell_type": "code",
   "execution_count": 88,
   "metadata": {},
   "outputs": [
    {
     "name": "stdout",
     "output_type": "stream",
     "text": [
      "4028332.682954965\n"
     ]
    }
   ],
   "source": [
    "Dispersion_shift(87417087,4.803e9,6.7e9)"
   ]
  },
  {
   "cell_type": "markdown",
   "metadata": {},
   "source": [
    "### Q4"
   ]
  },
  {
   "cell_type": "code",
   "execution_count": 89,
   "metadata": {},
   "outputs": [
    {
     "name": "stdout",
     "output_type": "stream",
     "text": [
      "For λ/4, if fr =  7000000000 then Cr =  3.571428571428571e-13\n"
     ]
    }
   ],
   "source": [
    "# def g_lambda4(Cg2,fr,Cq2,fq2):\n",
    "# Cr_4(fr,Z0):\n",
    "Cr_4(7*10**9,50)"
   ]
  },
  {
   "cell_type": "code",
   "execution_count": 90,
   "metadata": {},
   "outputs": [
    {
     "name": "stdout",
     "output_type": "stream",
     "text": [
      "if fr =  7000000000.0\n",
      "and Cg2=  1.15e-14\n",
      "and fq2 = 4686000000.0\n",
      "and Cr =  3.571428571428571e-13\n",
      "and Cq2 =  3.571428571428571e-13\n",
      "then g(Qubit-lambda4_resonator)= 92209578.78658812\n"
     ]
    }
   ],
   "source": [
    "g_lambda4(11.5e-15,7e9,3.571428571428571e-13,4.686e9)"
   ]
  },
  {
   "cell_type": "code",
   "execution_count": 91,
   "metadata": {},
   "outputs": [
    {
     "name": "stdout",
     "output_type": "stream",
     "text": [
      "3674419.306369094\n"
     ]
    }
   ],
   "source": [
    "Dispersion_shift(92209578,4.686e9,7e9)"
   ]
  },
  {
   "cell_type": "code",
   "execution_count": null,
   "metadata": {},
   "outputs": [],
   "source": []
  },
  {
   "cell_type": "markdown",
   "metadata": {},
   "source": [
    "### Q5"
   ]
  },
  {
   "cell_type": "code",
   "execution_count": 92,
   "metadata": {},
   "outputs": [
    {
     "name": "stdout",
     "output_type": "stream",
     "text": [
      "For λ/4, if fr =  7100000000.0 then Cr =  3.52112676056338e-13\n"
     ]
    }
   ],
   "source": [
    "# def g_lambda4(Cg2,fr,Cq2,fq2):\n",
    "# Cr_4(fr,Z0):\n",
    "Cr_4(7.1*10**9,50)"
   ]
  },
  {
   "cell_type": "code",
   "execution_count": 93,
   "metadata": {},
   "outputs": [
    {
     "name": "stdout",
     "output_type": "stream",
     "text": [
      "if fr =  7100000000.0\n",
      "and Cg2=  1.15e-14\n",
      "and fq2 = 4599000000.0\n",
      "and Cr =  3.52112676056338e-13\n",
      "and Cq2 =  3.52112676056338e-13\n",
      "then g(Qubit-lambda4_resonator)= 93314055.3443585\n"
     ]
    }
   ],
   "source": [
    "g_lambda4(11.5e-15,7.1e9,3.52112676056338e-13,4.599e9)"
   ]
  },
  {
   "cell_type": "code",
   "execution_count": 94,
   "metadata": {},
   "outputs": [
    {
     "name": "stdout",
     "output_type": "stream",
     "text": [
      "3481612.499217523\n"
     ]
    }
   ],
   "source": [
    "Dispersion_shift(93314055,4.599e9,7.1e9)"
   ]
  },
  {
   "cell_type": "code",
   "execution_count": null,
   "metadata": {},
   "outputs": [],
   "source": []
  },
  {
   "cell_type": "markdown",
   "metadata": {},
   "source": [
    "### 7比特设计参数计算"
   ]
  },
  {
   "cell_type": "code",
   "execution_count": 136,
   "metadata": {},
   "outputs": [
    {
     "name": "stdout",
     "output_type": "stream",
     "text": [
      "If Rn = 13500 , Cq =  6.5e-14\n",
      "then, Ic = 21.17666159086453 nA\n",
      "then, Ej = 10.513858150685786 GHz\n",
      "then, Ec = 298.0035303489373 MHz\n",
      "then, Ej/Ec = 35.28098522314462\n",
      "then, fq = 4.708525683781199 GHz\n"
     ]
    }
   ],
   "source": [
    "fq_calculation(13500, 65e-15)"
   ]
  },
  {
   "cell_type": "code",
   "execution_count": 137,
   "metadata": {},
   "outputs": [
    {
     "name": "stdout",
     "output_type": "stream",
     "text": [
      "If Rn = 13200 , Cq =  6.5e-14\n",
      "then, Ic = 21.65794935429327 nA\n",
      "then, Ej = 10.752809472292283 GHz\n",
      "then, Ec = 298.0035303489373 MHz\n",
      "then, Ej/Ec = 36.082825796397906\n",
      "then, fq = 4.765098431028174 GHz\n"
     ]
    }
   ],
   "source": [
    "fq_calculation(13200, 65e-15)"
   ]
  },
  {
   "cell_type": "code",
   "execution_count": 138,
   "metadata": {},
   "outputs": [
    {
     "name": "stdout",
     "output_type": "stream",
     "text": [
      "If Rn = 13000 , Cq =  6.5e-14\n",
      "then, Ic = 21.991148575128552 nA\n",
      "then, Ej = 10.918237310327546 GHz\n",
      "then, Ec = 298.0035303489373 MHz\n",
      "then, Ej/Ec = 36.63794619326556\n",
      "then, fq = 4.803896714591252 GHz\n"
     ]
    }
   ],
   "source": [
    "fq_calculation(13000, 65e-15)"
   ]
  },
  {
   "cell_type": "code",
   "execution_count": 139,
   "metadata": {},
   "outputs": [
    {
     "name": "stdout",
     "output_type": "stream",
     "text": [
      "If Rn = 14000 , Cq =  6.3e-14\n",
      "then, Ic = 20.420352248333657 nA\n",
      "then, Ej = 10.138363216732726 GHz\n",
      "then, Ec = 307.4639598838243 MHz\n",
      "then, Ej/Ec = 32.97415157393901\n",
      "then, fq = 4.6862771638486835 GHz\n"
     ]
    }
   ],
   "source": [
    "fq_calculation(14000, 63e-15)"
   ]
  },
  {
   "cell_type": "code",
   "execution_count": 140,
   "metadata": {},
   "outputs": [
    {
     "name": "stdout",
     "output_type": "stream",
     "text": [
      "If Rn = 14500 , Cq =  6.3e-14\n",
      "then, Ic = 19.716202170804905 nA\n",
      "then, Ej = 9.78876448512125 GHz\n",
      "then, Ec = 307.4639598838243 MHz\n",
      "then, Ej/Ec = 31.83711186449283\n",
      "then, fq = 4.599422866579997 GHz\n"
     ]
    }
   ],
   "source": [
    "fq_calculation(14500, 63e-15)"
   ]
  },
  {
   "cell_type": "markdown",
   "metadata": {
    "tags": []
   },
   "source": [
    "### 量子比特电容计算"
   ]
  },
  {
   "cell_type": "code",
   "execution_count": null,
   "metadata": {},
   "outputs": [],
   "source": []
  },
  {
   "cell_type": "code",
   "execution_count": null,
   "metadata": {},
   "outputs": [],
   "source": []
  },
  {
   "cell_type": "code",
   "execution_count": null,
   "metadata": {},
   "outputs": [],
   "source": []
  },
  {
   "cell_type": "code",
   "execution_count": null,
   "metadata": {},
   "outputs": [],
   "source": []
  },
  {
   "cell_type": "code",
   "execution_count": null,
   "metadata": {},
   "outputs": [],
   "source": []
  },
  {
   "cell_type": "code",
   "execution_count": null,
   "metadata": {},
   "outputs": [],
   "source": []
  },
  {
   "cell_type": "code",
   "execution_count": null,
   "metadata": {},
   "outputs": [],
   "source": []
  },
  {
   "cell_type": "code",
   "execution_count": null,
   "metadata": {},
   "outputs": [],
   "source": []
  },
  {
   "cell_type": "code",
   "execution_count": null,
   "metadata": {},
   "outputs": [],
   "source": []
  },
  {
   "cell_type": "code",
   "execution_count": null,
   "metadata": {},
   "outputs": [],
   "source": []
  },
  {
   "cell_type": "code",
   "execution_count": null,
   "metadata": {},
   "outputs": [],
   "source": []
  },
  {
   "cell_type": "code",
   "execution_count": null,
   "metadata": {},
   "outputs": [],
   "source": []
  },
  {
   "cell_type": "code",
   "execution_count": null,
   "metadata": {},
   "outputs": [],
   "source": []
  },
  {
   "cell_type": "code",
   "execution_count": null,
   "metadata": {},
   "outputs": [],
   "source": []
  },
  {
   "cell_type": "code",
   "execution_count": null,
   "metadata": {},
   "outputs": [],
   "source": []
  },
  {
   "cell_type": "code",
   "execution_count": null,
   "metadata": {},
   "outputs": [],
   "source": []
  },
  {
   "cell_type": "markdown",
   "metadata": {},
   "source": [
    "#### 默认情况qubits参数计算：比特频率、比特常温电阻、临界电流"
   ]
  },
  {
   "cell_type": "code",
   "execution_count": 3,
   "metadata": {},
   "outputs": [],
   "source": [
    "fq_list = [] #存放比特频率的列表\n",
    "def Get_fq(Ec= 300*10**6,k= 40,qubit_num= 4.0): #k为Ej/Ec的大小 Ec单位为GHz\n",
    "    flag = 1\n",
    "    while(flag <= qubit_num): \n",
    "        fq = np.sqrt(8*Ec)*np.sqrt(Ec*k)-Ec \n",
    "        fq_list.append(fq)\n",
    "        flag += 1\n",
    "        k = k + 7\n",
    "    return fq_list\n",
    "\n"
   ]
  },
  {
   "cell_type": "code",
   "execution_count": 4,
   "metadata": {},
   "outputs": [
    {
     "data": {
      "text/plain": [
       "[5066563145.9994955, 5517215828.899594, 5935382907.247958, 6327216610.312357]"
      ]
     },
     "execution_count": 4,
     "metadata": {},
     "output_type": "execute_result"
    }
   ],
   "source": [
    "Get_fq()"
   ]
  },
  {
   "cell_type": "code",
   "execution_count": 5,
   "metadata": {},
   "outputs": [
    {
     "data": {
      "text/plain": [
       "[5066563145.9994955, 5517215828.899594, 5935382907.247958, 6327216610.312357]"
      ]
     },
     "execution_count": 5,
     "metadata": {},
     "output_type": "execute_result"
    }
   ],
   "source": [
    "fq_list"
   ]
  },
  {
   "cell_type": "code",
   "execution_count": 6,
   "metadata": {},
   "outputs": [],
   "source": [
    "Ej_list = [0 for x in range(0,len(fq_list),1)]\n",
    "##按照电荷量子比特Ec与Ej的比值确定Ej\n",
    "def Get_Ej(Ec=300*10**6 ,k=40):\n",
    "    i = 0\n",
    "    for i in range(0,len(fq_list),1):\n",
    "        Ej_list[i] = k*Ec\n",
    "        k = k +7\n",
    "    return Ej_list \n"
   ]
  },
  {
   "cell_type": "code",
   "execution_count": 7,
   "metadata": {},
   "outputs": [
    {
     "data": {
      "text/plain": [
       "[12000000000, 14100000000, 16200000000, 18300000000]"
      ]
     },
     "execution_count": 7,
     "metadata": {},
     "output_type": "execute_result"
    }
   ],
   "source": [
    "Get_Ej()"
   ]
  },
  {
   "cell_type": "code",
   "execution_count": 8,
   "metadata": {},
   "outputs": [
    {
     "data": {
      "text/plain": [
       "[12000000000, 14100000000, 16200000000, 18300000000]"
      ]
     },
     "execution_count": 8,
     "metadata": {},
     "output_type": "execute_result"
    }
   ],
   "source": [
    "Ej_list"
   ]
  },
  {
   "cell_type": "code",
   "execution_count": 51,
   "metadata": {},
   "outputs": [
    {
     "ename": "NameError",
     "evalue": "name 'fq_list' is not defined",
     "output_type": "error",
     "traceback": [
      "\u001b[1;31m---------------------------------------------------------------------------\u001b[0m",
      "\u001b[1;31mNameError\u001b[0m                                 Traceback (most recent call last)",
      "\u001b[1;32m~\\AppData\\Local\\Temp/ipykernel_14656/1695826717.py\u001b[0m in \u001b[0;36m<module>\u001b[1;34m\u001b[0m\n\u001b[1;32m----> 1\u001b[1;33m \u001b[0mIc_list\u001b[0m \u001b[1;33m=\u001b[0m \u001b[1;33m[\u001b[0m\u001b[1;36m0\u001b[0m \u001b[1;32mfor\u001b[0m \u001b[0mx\u001b[0m \u001b[1;32min\u001b[0m \u001b[0mrange\u001b[0m\u001b[1;33m(\u001b[0m\u001b[1;36m0\u001b[0m\u001b[1;33m,\u001b[0m\u001b[0mlen\u001b[0m\u001b[1;33m(\u001b[0m\u001b[0mfq_list\u001b[0m\u001b[1;33m)\u001b[0m\u001b[1;33m,\u001b[0m\u001b[1;36m1\u001b[0m\u001b[1;33m)\u001b[0m\u001b[1;33m]\u001b[0m\u001b[1;33m\u001b[0m\u001b[1;33m\u001b[0m\u001b[0m\n\u001b[0m\u001b[0;32m      2\u001b[0m \u001b[1;32mdef\u001b[0m \u001b[0mGet_Ic\u001b[0m\u001b[1;33m(\u001b[0m\u001b[0mEj_list\u001b[0m\u001b[1;33m)\u001b[0m\u001b[1;33m:\u001b[0m\u001b[1;33m\u001b[0m\u001b[1;33m\u001b[0m\u001b[0m\n\u001b[0;32m      3\u001b[0m     \u001b[0mi\u001b[0m \u001b[1;33m=\u001b[0m \u001b[1;36m0\u001b[0m\u001b[1;33m\u001b[0m\u001b[1;33m\u001b[0m\u001b[0m\n\u001b[0;32m      4\u001b[0m     \u001b[1;32mfor\u001b[0m \u001b[0mi\u001b[0m \u001b[1;32min\u001b[0m \u001b[0mrange\u001b[0m\u001b[1;33m(\u001b[0m\u001b[1;36m0\u001b[0m\u001b[1;33m,\u001b[0m\u001b[0mlen\u001b[0m\u001b[1;33m(\u001b[0m\u001b[0mEj_list\u001b[0m\u001b[1;33m)\u001b[0m\u001b[1;33m,\u001b[0m\u001b[1;36m1\u001b[0m\u001b[1;33m)\u001b[0m\u001b[1;33m:\u001b[0m\u001b[1;33m\u001b[0m\u001b[1;33m\u001b[0m\u001b[0m\n\u001b[0;32m      5\u001b[0m         \u001b[0mIc_list\u001b[0m\u001b[1;33m[\u001b[0m\u001b[0mi\u001b[0m\u001b[1;33m]\u001b[0m \u001b[1;33m=\u001b[0m \u001b[1;36m4\u001b[0m\u001b[1;33m*\u001b[0m\u001b[0me\u001b[0m\u001b[1;33m*\u001b[0m\u001b[0mnp\u001b[0m\u001b[1;33m.\u001b[0m\u001b[0mpi\u001b[0m\u001b[1;33m*\u001b[0m\u001b[0mEj_list\u001b[0m\u001b[1;33m[\u001b[0m\u001b[0mi\u001b[0m\u001b[1;33m]\u001b[0m\u001b[1;33m\u001b[0m\u001b[1;33m\u001b[0m\u001b[0m\n",
      "\u001b[1;31mNameError\u001b[0m: name 'fq_list' is not defined"
     ]
    }
   ],
   "source": [
    "Ic_list = [0 for x in range(0,len(fq_list),1)]\n",
    "def Get_Ic(Ej_list):\n",
    "    i = 0\n",
    "    for i in range(0,len(Ej_list),1):\n",
    "        Ic_list[i] = 4*e*np.pi*Ej_list[i]\n",
    "    return Ic_list"
   ]
  },
  {
   "cell_type": "code",
   "execution_count": 11,
   "metadata": {},
   "outputs": [
    {
     "data": {
      "text/plain": [
       "[2.4160253481915323e-08,\n",
       " 2.8388297841250506e-08,\n",
       " 3.261634220058569e-08,\n",
       " 3.6844386559920866e-08]"
      ]
     },
     "execution_count": 11,
     "metadata": {},
     "output_type": "execute_result"
    }
   ],
   "source": [
    "Get_Ic(Ej_list)"
   ]
  },
  {
   "cell_type": "code",
   "execution_count": 12,
   "metadata": {},
   "outputs": [
    {
     "data": {
      "text/plain": [
       "[2.4160253481915323e-08,\n",
       " 2.8388297841250506e-08,\n",
       " 3.261634220058569e-08,\n",
       " 3.6844386559920866e-08]"
      ]
     },
     "execution_count": 12,
     "metadata": {},
     "output_type": "execute_result"
    }
   ],
   "source": [
    "Ic_list"
   ]
  },
  {
   "cell_type": "code",
   "execution_count": 14,
   "metadata": {},
   "outputs": [],
   "source": [
    "Rn_list = [0 for x in range(0,len(fq_list),1)]\n",
    "def Get_Rn(Ic_list):\n",
    "    i = 0\n",
    "    for i in range(0,len(Ic_list),1):\n",
    "        Rn_list[i] = np.pi*0.182*10**(-3)/2/Ic_list[i]\n",
    "    return Rn_list\n"
   ]
  },
  {
   "cell_type": "code",
   "execution_count": 15,
   "metadata": {},
   "outputs": [
    {
     "data": {
      "text/plain": [
       "[11832.861426336633, 10070.520362839687, 8765.082538027134, 7759.253394319104]"
      ]
     },
     "execution_count": 15,
     "metadata": {},
     "output_type": "execute_result"
    }
   ],
   "source": [
    "Get_Rn(Ic_list)"
   ]
  },
  {
   "cell_type": "markdown",
   "metadata": {
    "tags": []
   },
   "source": [
    "## Readout谐振腔参数\n",
    "#### 默认情况下谐振腔的频率与比特频率差900MHz，由此确定谐振腔的腔长、谐振腔的电容\n",
    "#### 默认情况下以高阻硅为衬底（介电常数11.9)"
   ]
  },
  {
   "cell_type": "code",
   "execution_count": 16,
   "metadata": {},
   "outputs": [],
   "source": [
    "##获取默认状态下读取腔的频率\n",
    "fr_list = [0 for x in range(0,len(fq_list),1)]\n",
    "len_list = [0 for x in range(0,len(fq_list),1)]\n",
    "Cr_list = [0 for x in range(0,len(fq_list),1)]\n",
    "\n",
    "def Get_fr(fq_list):\n",
    "    i = 0\n",
    "    for i in range(0,len(fq_list),1):\n",
    "        fr_list[i] = fq_list[i] + 9*10**8\n",
    "    return fr_list\n",
    "\n",
    "def Get_cpw_len(fr_list):\n",
    "    i = 0\n",
    "    for i in range(0,len(fr_list),1):\n",
    "        len_list[i] = c*np.sqrt(2/(11.9+1))/4/fr_list[i]\n",
    "    return len_list\n",
    "\n",
    "def Get_Cr(fr_list):\n",
    "    i = 0\n",
    "    for i in range(0,len(fq_list),1):\n",
    "        Cr_list[i] = 1/8/fr_list[i]/50\n",
    "    return Cr_list"
   ]
  },
  {
   "cell_type": "code",
   "execution_count": 17,
   "metadata": {},
   "outputs": [
    {
     "data": {
      "text/plain": [
       "[5966563145.9994955, 6417215828.899594, 6835382907.247958, 7227216610.312357]"
      ]
     },
     "execution_count": 17,
     "metadata": {},
     "output_type": "execute_result"
    }
   ],
   "source": [
    "Get_fr(fq_list)\n",
    "fr_list"
   ]
  },
  {
   "cell_type": "code",
   "execution_count": 18,
   "metadata": {},
   "outputs": [
    {
     "data": {
      "text/plain": [
       "[0.0049494525471889496,\n",
       " 0.0046018743873220865,\n",
       " 0.004320346286616545,\n",
       " 0.004086112642423567]"
      ]
     },
     "execution_count": 18,
     "metadata": {},
     "output_type": "execute_result"
    }
   ],
   "source": [
    "Get_cpw_len(fr_list)\n",
    "len_list"
   ]
  },
  {
   "cell_type": "code",
   "execution_count": 19,
   "metadata": {},
   "outputs": [
    {
     "data": {
      "text/plain": [
       "[4.190016830168333e-13,\n",
       " 3.8957704815558505e-13,\n",
       " 3.6574395815472213e-13,\n",
       " 3.459146355780737e-13]"
      ]
     },
     "execution_count": 19,
     "metadata": {},
     "output_type": "execute_result"
    }
   ],
   "source": [
    "Get_Cr(fr_list)\n",
    "Cr_list"
   ]
  },
  {
   "attachments": {
    "198e1d3c-2501-4856-9954-e1b062671212.png": {
     "image/png": "[encoded data removed]"
    }
   },
   "cell_type": "markdown",
   "metadata": {
    "tags": []
   },
   "source": [
    "## T1上限\n",
    "![image.png](attachment:198e1d3c-2501-4856-9954-e1b062671212.png)"
   ]
  },
  {
   "cell_type": "code",
   "execution_count": 22,
   "metadata": {},
   "outputs": [],
   "source": [
    "Ql_list = [0 for x in range(0,len(fq_list),1)]\n",
    "Ck_list = [0 for x in range(0,len(fq_list),1)]"
   ]
  },
  {
   "cell_type": "code",
   "execution_count": 23,
   "metadata": {},
   "outputs": [
    {
     "data": {
      "text/plain": [
       "[0, 0, 0, 0]"
      ]
     },
     "execution_count": 23,
     "metadata": {},
     "output_type": "execute_result"
    }
   ],
   "source": [
    "Ql_list"
   ]
  },
  {
   "cell_type": "code",
   "execution_count": 24,
   "metadata": {},
   "outputs": [
    {
     "data": {
      "text/plain": [
       "[0, 0, 0, 0]"
      ]
     },
     "execution_count": 24,
     "metadata": {},
     "output_type": "execute_result"
    }
   ],
   "source": [
    "Ck_list"
   ]
  },
  {
   "cell_type": "code",
   "execution_count": null,
   "metadata": {},
   "outputs": [],
   "source": [
    "## 外部品质因子的计算\n",
    "def Ql(fr_list, Cr_list,Ck_list):\n",
    "    i = 0\n",
    "    for i in range(0,len(fr_list),1):\n",
    "        Ql_list[i] = Cr_list[i]/(fr_list[i]*2*np.pi)/50/(Ck_list[i])**2\n",
    "    return Ql_list\n",
    "    \n",
    "    \n",
    "    \n",
    "    \n",
    "def T1(w10, wr, Ql, gr):\n",
    "    "
   ]
  },
  {
   "cell_type": "markdown",
   "metadata": {},
   "source": [
    "## ZZ耦合"
   ]
  },
  {
   "cell_type": "code",
   "execution_count": null,
   "metadata": {},
   "outputs": [],
   "source": []
  },
  {
   "cell_type": "code",
   "execution_count": null,
   "metadata": {},
   "outputs": [],
   "source": []
  },
  {
   "cell_type": "code",
   "execution_count": null,
   "metadata": {},
   "outputs": [],
   "source": []
  },
  {
   "cell_type": "code",
   "execution_count": null,
   "metadata": {},
   "outputs": [],
   "source": []
  },
  {
   "cell_type": "code",
   "execution_count": null,
   "metadata": {},
   "outputs": [],
   "source": []
  },
  {
   "cell_type": "code",
   "execution_count": null,
   "metadata": {},
   "outputs": [],
   "source": []
  }
 ],
 "metadata": {
  "kernelspec": {
   "display_name": "pymetal",
   "language": "python",
   "name": "pymetal"
  },
  "language_info": {
   "codemirror_mode": {
    "name": "ipython",
    "version": 3
   },
   "file_extension": ".py",
   "mimetype": "text/x-python",
   "name": "python",
   "nbconvert_exporter": "python",
   "pygments_lexer": "ipython3",
   "version": "3.7.10"
  }
 },
 "nbformat": 4,
 "nbformat_minor": 4
}
